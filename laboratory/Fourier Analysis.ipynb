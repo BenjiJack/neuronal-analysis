{
 "cells": [
  {
   "cell_type": "markdown",
   "metadata": {},
   "source": [
    "- Neurons with highest principal components\n",
    "- Graph clustering, advanced metrics\n",
    "- Information flow analysis\n",
    "- Fourier analysis, FCA, functional connectivity\n",
    "- Minimal network\n",
    "- "
   ]
  },
  {
   "cell_type": "code",
   "execution_count": null,
   "metadata": {
    "collapsed": true
   },
   "outputs": [],
   "source": [
    "import numpy as np\n",
    "\n",
    "timeseries = wormData[0]['deltaFOverF'][70]\n",
    "x = wormData[0]['tv'][0]\n",
    "\n",
    "N=x.shape[0]\n",
    "\n",
    "plt.figure(figsize=(20,5))\n",
    "plt.title('DeltaFOverF for a random neuron')\n",
    "plt.ylabel('Ca++-dependent Fluorescence')\n",
    "plt.xlabel('Time (s)')\n",
    "plt.plot(x,timeseries)\n",
    "plt.show()\n",
    "\n",
    "# get the time interval between kato data points\n",
    "dt = (x[1]-x[0])\n",
    "\n",
    "g = np.fft.fft(timeseries)\n",
    "w = np.fft.fftfreq(timeseries.size,d=dt)\n",
    "\n",
    "g2 = np.fft.ifft(g)\n",
    "\n",
    "plt.xlabel(\"frequency (Hz)\")\n",
    "plt.ylabel(\"amplitude\")\n",
    "plt.xlim(0.0, 0.1)\n",
    "#plt.plot(np.linspace(0, 1/(2*dt), N/2), np.abs(g[:N/2]))\n",
    "plt.plot(w, np.abs(g))\n",
    "plt.show()\n",
    "\n",
    "#g = np.fft.fft(timeseries)\n",
    "#w = np.fft.fftfreq(timeseries.size)/dt\n",
    "#g *= dt*np.exp(-complex(0,1)*w*t0)/(np.sqrt(2*np.pi))\n",
    "#plt.figure(figsize=(20,5))\n",
    "#plt.title('Adding fourier waves')\n",
    "#plt.ylim((-1.5,1.5))\n",
    "\n",
    "plt.figure(figsize=(20,5))\n",
    "plt.title('Reconstructed (inverse FFT) DeltaFOverF for a random neuron')\n",
    "plt.xlabel(\"time(s)\")\n",
    "plt.ylabel(\"Ca++-dependent Fluorescence\")\n",
    "#plt.xlim(-0.05, 20)\n",
    "#plt.ylim(-5, 100)\n",
    "plt.xlim(0, 1200)\n",
    "plt.plot(x,g2)\n",
    "plt.show()\n",
    "\n",
    "# find significant frequencies\n",
    "for i in range(0,N/2):\n",
    "    if (np.abs(g[i]) > 200): \n",
    "        print (1/w[i])"
   ]
  }
 ],
 "metadata": {
  "kernelspec": {
   "display_name": "Python 2",
   "language": "python",
   "name": "python2"
  },
  "language_info": {
   "codemirror_mode": {
    "name": "ipython",
    "version": 2
   },
   "file_extension": ".py",
   "mimetype": "text/x-python",
   "name": "python",
   "nbconvert_exporter": "python",
   "pygments_lexer": "ipython2",
   "version": "2.7.10"
  }
 },
 "nbformat": 4,
 "nbformat_minor": 0
}
