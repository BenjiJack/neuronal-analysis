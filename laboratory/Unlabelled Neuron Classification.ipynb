{
 "cells": [
  {
   "cell_type": "markdown",
   "metadata": {},
   "source": [
    "I'd like to try using artifical neural networks to classify unknown neurons in the *kato dataset*. In addition to being a classification task, this will also be a  **combinatorial optimization task** in that the classification needs to be optimal across all unknown neurons in the dataset. Brute force would go through every possibility and find the one with the least error. That of course is unfeasible when you have, say 50 unknown neurons which makes for a massive search space of $50!=30414093201713378043612608166064768844377641568960512000000000000$\n",
    "possibilities.\n",
    "\n",
    "The error will be the probability a classification is correct and we need to maximize the probability distribution across all neurons, i.e. minimize the mean squared error in the classification. \n",
    "\n",
    "- The [wikipedia on combinatorial optimization](https://en.wikipedia.org/wiki/Combinatorial_optimization)\n",
    "- Combinatorial optimization library, [Numberjack](http://numberjack.ucc.ie/doc/)"
   ]
  },
  {
   "cell_type": "code",
   "execution_count": null,
   "metadata": {
    "collapsed": true
   },
   "outputs": [],
   "source": [
    "from keras.models import Sequential\n",
    "from keras.layers.core import Dense, Activation, Dropout\n",
    "from keras.layers.recurrent import LSTM\n",
    "from keras.utils.data_utils import get_file\n",
    "import numpy as np\n",
    "import random\n",
    "import sys\n",
    "import os\n",
    "\n",
    "%matplotlib inline\n",
    "import matplotlib.pyplot as plt\n",
    "\n",
    "#Add the src folder to the sys.path list\n",
    "sys.path.append('../src/')\n",
    "import data_config as dc"
   ]
  }
 ],
 "metadata": {
  "kernelspec": {
   "display_name": "Python 2",
   "language": "python",
   "name": "python2"
  },
  "language_info": {
   "codemirror_mode": {
    "name": "ipython",
    "version": 2
   },
   "file_extension": ".py",
   "mimetype": "text/x-python",
   "name": "python",
   "nbconvert_exporter": "python",
   "pygments_lexer": "ipython2",
   "version": "2.7.10"
  }
 },
 "nbformat": 4,
 "nbformat_minor": 0
}
