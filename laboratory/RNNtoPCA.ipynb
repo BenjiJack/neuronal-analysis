{
 "cells": [
  {
   "cell_type": "markdown",
   "metadata": {},
   "source": [
    "### Recurrent Neural Network to PCA\n",
    "This script takes the 5 Kato trials, models the data for each trial using a RNN, and then runs PCA on the resulting output. For each trial, it graphs the PCA of the original trial versus the output of the model."
   ]
  },
  {
   "cell_type": "code",
   "execution_count": 2,
   "metadata": {
    "collapsed": false
   },
   "outputs": [
    {
     "name": "stdout",
     "output_type": "stream",
     "text": [
      "/Users/akivalipshitz/Developer/neuronal-analysis/data/wbdata/\n"
     ]
    },
    {
     "name": "stderr",
     "output_type": "stream",
     "text": [
      "Using Theano backend.\n"
     ]
    }
   ],
   "source": [
    "import numpy as np\n",
    "import random\n",
    "import sys\n",
    "import os\n",
    "\n",
    "%matplotlib inline\n",
    "import matplotlib.pyplot as plt\n",
    "from mpl_toolkits.mplot3d import Axes3D\n",
    "\n",
    "from sklearn.decomposition import PCA\n",
    "\n",
    "#Add the src folder to the sys.path list\n",
    "sys.path.append('../src/')\n",
    "import data_config as dc\n",
    "import rnn"
   ]
  },
  {
   "cell_type": "code",
   "execution_count": 3,
   "metadata": {
    "collapsed": true
   },
   "outputs": [],
   "source": [
    "wormData = dc.kato_matlab.retrieve()"
   ]
  },
  {
   "cell_type": "code",
   "execution_count": null,
   "metadata": {
    "collapsed": false
   },
   "outputs": [
    {
     "name": "stdout",
     "output_type": "stream",
     "text": [
      "('sequence chunks:', 2934)\n",
      "('chunk width:', 200)\n",
      "('vector dimension:', 107)\n",
      "Build model..."
     ]
    }
   ],
   "source": [
    "# Run PCA\n",
    "\n",
    "fig = plt.figure(figsize=(20,50))\n",
    "\n",
    "plot_index = 1\n",
    "for i in range(0,5):\n",
    "    seq = wormData[i][\"deltaFOverF_deriv\"].T\n",
    "    gen = rnn.generate(seq, maxlen=200, bs=128, ep=10, output_iterations=1000)\n",
    "    \n",
    "    pca = PCA(n_components=3)\n",
    "    pca.fit(seq)\n",
    "    out = pca.transform(seq)\n",
    "\n",
    "    ax = fig.add_subplot(5, 2, plot_index, projection='3d')\n",
    "    ax.plot_wireframe(out.T[0], out.T[1], out.T[2])\n",
    "    ax.set_title((\"PCA on fluorescence derivative (real-world): Trial\"))\n",
    "    plot_index += 1\n",
    "    \n",
    "    pca = PCA(n_components=3)\n",
    "    pca.fit(gen)\n",
    "    out = pca.transform(gen)\n",
    "\n",
    "    ax = fig.add_subplot(5, 2, plot_index, projection='3d')\n",
    "    ax.plot_wireframe(out.T[0], out.T[1], out.T[2])\n",
    "    ax.set_title((\"PCA on SIMULATED fluorescence derivative (RNN): Trial\"))\n",
    "    plot_index += 1\n",
    "\n",
    "plt.show()\n"
   ]
  },
  {
   "cell_type": "code",
   "execution_count": null,
   "metadata": {
    "collapsed": true
   },
   "outputs": [],
   "source": []
  }
 ],
 "metadata": {
  "kernelspec": {
   "display_name": "Python 2",
   "language": "python",
   "name": "python2"
  },
  "language_info": {
   "codemirror_mode": {
    "name": "ipython",
    "version": 2
   },
   "file_extension": ".py",
   "mimetype": "text/x-python",
   "name": "python",
   "nbconvert_exporter": "python",
   "pygments_lexer": "ipython2",
   "version": "2.7.10"
  }
 },
 "nbformat": 4,
 "nbformat_minor": 0
}
