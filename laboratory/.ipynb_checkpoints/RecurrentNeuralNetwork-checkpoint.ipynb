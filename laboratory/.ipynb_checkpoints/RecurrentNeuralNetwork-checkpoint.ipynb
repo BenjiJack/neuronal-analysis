{
 "cells": [
  {
   "cell_type": "markdown",
   "metadata": {},
   "source": [
    "### Recurrent Neural Network representation of C. elegans neural timeseries data\n",
    "Script to model C. elegans neural timeseries data,\n",
    "and generate similar data, using a Recurrent\n",
    "Neural Network (specifically, a long short term memory or LSTM network)\n",
    "\n",
    "Inspired by\n",
    "http://karpathy.github.io/2015/05/21/rnn-effectiveness/\n",
    "\n",
    "Based on code from\n",
    "https://github.com/fchollet/keras/blob/master/examples/lstm_text_generation.py"
   ]
  },
  {
   "cell_type": "code",
   "execution_count": 4,
   "metadata": {
    "collapsed": false
   },
   "outputs": [
    {
     "name": "stdout",
     "output_type": "stream",
     "text": [
      "/Users/akivalipshitz/Developer/neuronal-analysis/data/wbdata/\n"
     ]
    },
    {
     "name": "stderr",
     "output_type": "stream",
     "text": [
      "Using Theano backend.\n"
     ]
    }
   ],
   "source": [
    "from keras.models import Sequential\n",
    "from keras.layers.core import Dense, Activation, Dropout\n",
    "from keras.layers.recurrent import LSTM\n",
    "from keras.utils.data_utils import get_file\n",
    "import numpy as np\n",
    "import random\n",
    "import sys\n",
    "import os\n",
    "\n",
    "%matplotlib inline\n",
    "import matplotlib.pyplot as plt\n",
    "\n",
    "os.environ[\"THEANO_FLAGS\"] = \"mode=FAST_RUN,device=gpu,floatX=float32\"\n",
    "\n",
    "#Add the src folder to the sys.path list\n",
    "sys.path.append('../src/')\n",
    "import data_config as dc"
   ]
  },
  {
   "cell_type": "code",
   "execution_count": 12,
   "metadata": {
    "collapsed": false
   },
   "outputs": [
    {
     "data": {
      "text/html": [
       "<div>\n",
       "<table border=\"1\" class=\"dataframe\">\n",
       "  <thead>\n",
       "    <tr style=\"text-align: right;\">\n",
       "      <th></th>\n",
       "      <th>0</th>\n",
       "      <th>1</th>\n",
       "      <th>2</th>\n",
       "      <th>3</th>\n",
       "      <th>4</th>\n",
       "    </tr>\n",
       "  </thead>\n",
       "  <tbody>\n",
       "    <tr>\n",
       "      <th>FlNm</th>\n",
       "      <td>TS20140715f_lite-1_punc-31_NLS3_3eggs_56um_1mM...</td>\n",
       "      <td>TS20140926d_lite-1_punc-31_NLS3_RIV_2eggs_1mMT...</td>\n",
       "      <td>TS20141221b_THK178_lite-1_punc-31_NLS3_6eggs_1...</td>\n",
       "      <td>TS20140715e_lite-1_punc-31_NLS3_2eggs_56um_1mM...</td>\n",
       "      <td>TS20140905c_lite-1_punc-31_NLS3_AVHJ_0eggs_1mM...</td>\n",
       "    </tr>\n",
       "    <tr>\n",
       "      <th>NeuronIds</th>\n",
       "      <td>0     1\n",
       "0     None  None\n",
       "1     None  ...</td>\n",
       "      <td>0      1\n",
       "0     None   None\n",
       "1     None...</td>\n",
       "      <td>0     1\n",
       "0     None  None\n",
       "1     None  ...</td>\n",
       "      <td>0      1     2\n",
       "0     None   None  Non...</td>\n",
       "      <td>0     1\n",
       "0     NaN   NaN\n",
       "1     NaN   Na...</td>\n",
       "    </tr>\n",
       "    <tr>\n",
       "      <th>deltaFOverF</th>\n",
       "      <td>[[0.135913490458, 0.122698371026, 0.1273345364...</td>\n",
       "      <td>[[-0.0888920088322, -0.130398703723, -0.080847...</td>\n",
       "      <td>[[-0.15780023438, -0.119564953505, -0.18563226...</td>\n",
       "      <td>[[0.122448621446, 0.118398218526, 0.1275767208...</td>\n",
       "      <td>[[0.150902719177, -0.039497701204, 0.045866099...</td>\n",
       "    </tr>\n",
       "    <tr>\n",
       "      <th>deltaFOverF_bc</th>\n",
       "      <td>[[0.0813810375536, 0.068289481621, 0.073049190...</td>\n",
       "      <td>[[0.11694110675, 0.0756448955127, 0.1254065656...</td>\n",
       "      <td>[[0.102359940819, 0.141055885003, 0.0754484136...</td>\n",
       "      <td>[[0.0686293468348, 0.0647636490109, 0.07412679...</td>\n",
       "      <td>[[0.230656610926, 0.0403072988817, 0.125722194...</td>\n",
       "    </tr>\n",
       "    <tr>\n",
       "      <th>deltaFOverF_deriv</th>\n",
       "      <td>[[-0.000551819232698, -0.000551818672615, -0.0...</td>\n",
       "      <td>[[0.0062459423014, 0.00624604574426, 0.0062471...</td>\n",
       "      <td>[[-0.000489274045825, -0.000489858006098, -0.0...</td>\n",
       "      <td>[[0.000883089395239, 0.000883089373364, 0.0008...</td>\n",
       "      <td>[[-0.0309526801435, -0.0309354939679, -0.02839...</td>\n",
       "    </tr>\n",
       "    <tr>\n",
       "      <th>tv</th>\n",
       "      <td>[[0.0, 0.344607530313, 0.689215060625, 1.03382...</td>\n",
       "      <td>[[0.0, 0.326185442465, 0.652370884929, 0.97855...</td>\n",
       "      <td>[[0.0, 0.357497517378, 0.714995034757, 1.07249...</td>\n",
       "      <td>[[0.0, 0.344277972585, 0.688555945171, 1.03283...</td>\n",
       "      <td>[[0.0, 0.35305655443, 0.706113108859, 1.059169...</td>\n",
       "    </tr>\n",
       "  </tbody>\n",
       "</table>\n",
       "</div>"
      ],
      "text/plain": [
       "                                                                   0  \\\n",
       "FlNm               TS20140715f_lite-1_punc-31_NLS3_3eggs_56um_1mM...   \n",
       "NeuronIds                   0     1\n",
       "0     None  None\n",
       "1     None  ...   \n",
       "deltaFOverF        [[0.135913490458, 0.122698371026, 0.1273345364...   \n",
       "deltaFOverF_bc     [[0.0813810375536, 0.068289481621, 0.073049190...   \n",
       "deltaFOverF_deriv  [[-0.000551819232698, -0.000551818672615, -0.0...   \n",
       "tv                 [[0.0, 0.344607530313, 0.689215060625, 1.03382...   \n",
       "\n",
       "                                                                   1  \\\n",
       "FlNm               TS20140926d_lite-1_punc-31_NLS3_RIV_2eggs_1mMT...   \n",
       "NeuronIds                   0      1\n",
       "0     None   None\n",
       "1     None...   \n",
       "deltaFOverF        [[-0.0888920088322, -0.130398703723, -0.080847...   \n",
       "deltaFOverF_bc     [[0.11694110675, 0.0756448955127, 0.1254065656...   \n",
       "deltaFOverF_deriv  [[0.0062459423014, 0.00624604574426, 0.0062471...   \n",
       "tv                 [[0.0, 0.326185442465, 0.652370884929, 0.97855...   \n",
       "\n",
       "                                                                   2  \\\n",
       "FlNm               TS20141221b_THK178_lite-1_punc-31_NLS3_6eggs_1...   \n",
       "NeuronIds                   0     1\n",
       "0     None  None\n",
       "1     None  ...   \n",
       "deltaFOverF        [[-0.15780023438, -0.119564953505, -0.18563226...   \n",
       "deltaFOverF_bc     [[0.102359940819, 0.141055885003, 0.0754484136...   \n",
       "deltaFOverF_deriv  [[-0.000489274045825, -0.000489858006098, -0.0...   \n",
       "tv                 [[0.0, 0.357497517378, 0.714995034757, 1.07249...   \n",
       "\n",
       "                                                                   3  \\\n",
       "FlNm               TS20140715e_lite-1_punc-31_NLS3_2eggs_56um_1mM...   \n",
       "NeuronIds                   0      1     2\n",
       "0     None   None  Non...   \n",
       "deltaFOverF        [[0.122448621446, 0.118398218526, 0.1275767208...   \n",
       "deltaFOverF_bc     [[0.0686293468348, 0.0647636490109, 0.07412679...   \n",
       "deltaFOverF_deriv  [[0.000883089395239, 0.000883089373364, 0.0008...   \n",
       "tv                 [[0.0, 0.344277972585, 0.688555945171, 1.03283...   \n",
       "\n",
       "                                                                   4  \n",
       "FlNm               TS20140905c_lite-1_punc-31_NLS3_AVHJ_0eggs_1mM...  \n",
       "NeuronIds                  0     1\n",
       "0     NaN   NaN\n",
       "1     NaN   Na...  \n",
       "deltaFOverF        [[0.150902719177, -0.039497701204, 0.045866099...  \n",
       "deltaFOverF_bc     [[0.230656610926, 0.0403072988817, 0.125722194...  \n",
       "deltaFOverF_deriv  [[-0.0309526801435, -0.0309354939679, -0.02839...  \n",
       "tv                 [[0.0, 0.35305655443, 0.706113108859, 1.059169...  "
      ]
     },
     "execution_count": 12,
     "metadata": {},
     "output_type": "execute_result"
    }
   ],
   "source": [
    "wormData = dc.kato.retrieve()\n",
    "wormData"
   ]
  },
  {
   "cell_type": "code",
   "execution_count": 7,
   "metadata": {
    "collapsed": false
   },
   "outputs": [
    {
     "name": "stdout",
     "output_type": "stream",
     "text": [
      "ERROR! Session/line number was not unique in database. History logging moved to new session 625\n"
     ]
    },
    {
     "ename": "TypeError",
     "evalue": "'NoneType' object has no attribute '__getitem__'",
     "output_type": "error",
     "traceback": [
      "\u001b[0;31m---------------------------------------------------------------------------\u001b[0m",
      "\u001b[0;31mTypeError\u001b[0m                                 Traceback (most recent call last)",
      "\u001b[0;32m<ipython-input-7-e1fadc9a89e8>\u001b[0m in \u001b[0;36m<module>\u001b[0;34m()\u001b[0m\n\u001b[1;32m      2\u001b[0m \u001b[0;31m# Let's try with derivative data\u001b[0m\u001b[0;34m\u001b[0m\u001b[0;34m\u001b[0m\u001b[0m\n\u001b[1;32m      3\u001b[0m \u001b[0;34m\u001b[0m\u001b[0m\n\u001b[0;32m----> 4\u001b[0;31m \u001b[0mseq\u001b[0m \u001b[0;34m=\u001b[0m \u001b[0mwormData\u001b[0m\u001b[0;34m[\u001b[0m\u001b[0;36m0\u001b[0m\u001b[0;34m]\u001b[0m\u001b[0;34m[\u001b[0m\u001b[0;34m\"deltaFOverF_deriv\"\u001b[0m\u001b[0;34m]\u001b[0m\u001b[0;34m.\u001b[0m\u001b[0mT\u001b[0m\u001b[0;34m\u001b[0m\u001b[0m\n\u001b[0m\u001b[1;32m      5\u001b[0m \u001b[0mplt\u001b[0m\u001b[0;34m.\u001b[0m\u001b[0mfigure\u001b[0m\u001b[0;34m(\u001b[0m\u001b[0mfigsize\u001b[0m\u001b[0;34m=\u001b[0m\u001b[0;34m(\u001b[0m\u001b[0;36m20\u001b[0m\u001b[0;34m,\u001b[0m\u001b[0;36m20\u001b[0m\u001b[0;34m)\u001b[0m\u001b[0;34m)\u001b[0m\u001b[0;34m\u001b[0m\u001b[0m\n\u001b[1;32m      6\u001b[0m \u001b[0mplt\u001b[0m\u001b[0;34m.\u001b[0m\u001b[0mpcolor\u001b[0m\u001b[0;34m(\u001b[0m\u001b[0mseq\u001b[0m\u001b[0;34m.\u001b[0m\u001b[0mT\u001b[0m\u001b[0;34m)\u001b[0m\u001b[0;34m\u001b[0m\u001b[0m\n",
      "\u001b[0;31mTypeError\u001b[0m: 'NoneType' object has no attribute '__getitem__'"
     ]
    }
   ],
   "source": [
    "# Choose a trial arbitrarily\n",
    "# Let's try with derivative data\n",
    "\n",
    "seq = wormData[0][\"deltaFOverF_deriv\"].T\n",
    "plt.figure(figsize=(20,20))\n",
    "plt.pcolor(seq.T)\n",
    "plt.tight_layout()"
   ]
  },
  {
   "cell_type": "code",
   "execution_count": 18,
   "metadata": {
    "collapsed": false
   },
   "outputs": [
    {
     "name": "stdout",
     "output_type": "stream",
     "text": [
      "('sequence chunks:', 3124)\n",
      "('chunk width:', 10)\n",
      "('vector dimension:', 107)\n"
     ]
    }
   ],
   "source": [
    "# Cut the timeseries data (variable name 'seq') into semi-redundant sequence chunks of maxlen\n",
    "maxlen = 10\n",
    "\n",
    "X = []\n",
    "y = []\n",
    "\n",
    "for i in range(0, len(seq) - maxlen):\n",
    "    X.append(seq[i:i+maxlen])\n",
    "    y.append(seq[i+maxlen])\n",
    "\n",
    "dim = len((X[0][0]))\n",
    "\n",
    "print(\"sequence chunks:\", len(X))\n",
    "print(\"chunk width:\", len(X[0]))\n",
    "print(\"vector dimension:\", dim)\n",
    "\n",
    "X = np.array(X)\n",
    "y = np.array(y)"
   ]
  },
  {
   "cell_type": "code",
   "execution_count": 19,
   "metadata": {
    "collapsed": false
   },
   "outputs": [
    {
     "name": "stdout",
     "output_type": "stream",
     "text": [
      "Build model...\n"
     ]
    }
   ],
   "source": [
    "# build the model: 2 stacked LSTM\n",
    "print('Build model...')\n",
    "model = Sequential()\n",
    "model.add(LSTM(512, return_sequences=True, input_shape=(maxlen, dim)))\n",
    "model.add(Dropout(0.2))\n",
    "model.add(LSTM(512, return_sequences=False))\n",
    "model.add(Dropout(0.2))\n",
    "model.add(Dense(dim))\n",
    "model.add(Activation('softmax'))\n",
    "\n",
    "model.compile(loss='categorical_crossentropy', optimizer='rmsprop')"
   ]
  },
  {
   "cell_type": "code",
   "execution_count": 23,
   "metadata": {
    "collapsed": false
   },
   "outputs": [
    {
     "name": "stdout",
     "output_type": "stream",
     "text": [
      "Epoch 1/50\n",
      "3124/3124 [==============================] - 21s - loss: -1.1050    \n",
      "Epoch 2/50\n",
      "3124/3124 [==============================] - 19s - loss: -1.1836    \n",
      "Epoch 3/50\n",
      "3124/3124 [==============================] - 21s - loss: -1.2238    \n",
      "Epoch 4/50\n",
      "3124/3124 [==============================] - 19s - loss: -1.2658    \n",
      "Epoch 5/50\n",
      "3124/3124 [==============================] - 20s - loss: -1.3218    \n",
      "Epoch 6/50\n",
      "3124/3124 [==============================] - 19s - loss: -1.3812    \n",
      "Epoch 7/50\n",
      "3124/3124 [==============================] - 20s - loss: -1.4335    \n",
      "Epoch 8/50\n",
      "3124/3124 [==============================] - 20s - loss: -1.4618    \n",
      "Epoch 9/50\n",
      "3124/3124 [==============================] - 19s - loss: -1.4696    \n",
      "Epoch 10/50\n",
      "3124/3124 [==============================] - 19s - loss: -1.4967    \n",
      "Epoch 11/50\n",
      "3124/3124 [==============================] - 21s - loss: -1.5134    \n",
      "Epoch 12/50\n",
      "3124/3124 [==============================] - 20s - loss: -1.5247    \n",
      "Epoch 13/50\n",
      "3124/3124 [==============================] - 25s - loss: -1.5460    \n",
      "Epoch 14/50\n",
      "3124/3124 [==============================] - 22s - loss: -1.5569    \n",
      "Epoch 15/50\n",
      "3124/3124 [==============================] - 20s - loss: -1.5829    \n",
      "Epoch 16/50\n",
      "3124/3124 [==============================] - 20s - loss: -1.5926    \n",
      "Epoch 17/50\n",
      "3124/3124 [==============================] - 20s - loss: -1.6056    \n",
      "Epoch 18/50\n",
      "3124/3124 [==============================] - 20s - loss: -1.6146    \n",
      "Epoch 19/50\n",
      "3124/3124 [==============================] - 22s - loss: -1.6248    \n",
      "Epoch 20/50\n",
      "3124/3124 [==============================] - 20s - loss: -1.6495    \n",
      "Epoch 21/50\n",
      "3124/3124 [==============================] - 19s - loss: -1.6509    \n",
      "Epoch 22/50\n",
      "3124/3124 [==============================] - 19s - loss: -1.6571    \n",
      "Epoch 23/50\n",
      "3124/3124 [==============================] - 20s - loss: -1.6695    \n",
      "Epoch 24/50\n",
      "3124/3124 [==============================] - 20s - loss: -1.6732    \n",
      "Epoch 25/50\n",
      "3124/3124 [==============================] - 20s - loss: -1.6831    \n",
      "Epoch 26/50\n",
      "3124/3124 [==============================] - 19s - loss: -1.6867    \n",
      "Epoch 27/50\n",
      "3124/3124 [==============================] - 21s - loss: -1.7040    \n",
      "Epoch 28/50\n",
      "3124/3124 [==============================] - 21s - loss: -1.7123    \n",
      "Epoch 29/50\n",
      "3124/3124 [==============================] - 20s - loss: -1.7176    \n",
      "Epoch 30/50\n",
      "3124/3124 [==============================] - 20s - loss: -1.7250    \n",
      "Epoch 31/50\n",
      "3124/3124 [==============================] - 20s - loss: -1.7306    \n",
      "Epoch 32/50\n",
      "3124/3124 [==============================] - 22s - loss: -1.7450    \n",
      "Epoch 33/50\n",
      "3124/3124 [==============================] - 20s - loss: -1.7491    \n",
      "Epoch 34/50\n",
      "3124/3124 [==============================] - 21s - loss: -1.7521    \n",
      "Epoch 35/50\n",
      "3124/3124 [==============================] - 19s - loss: -1.7604    \n",
      "Epoch 36/50\n",
      "3124/3124 [==============================] - 20s - loss: -1.7581    \n",
      "Epoch 37/50\n",
      "3124/3124 [==============================] - 20s - loss: -1.7710    \n",
      "Epoch 38/50\n",
      "3124/3124 [==============================] - 20s - loss: -1.7722    \n",
      "Epoch 39/50\n",
      "3124/3124 [==============================] - 20s - loss: -1.7806    \n",
      "Epoch 40/50\n",
      "3124/3124 [==============================] - 21s - loss: -1.7808    \n",
      "Epoch 41/50\n",
      "3124/3124 [==============================] - 21s - loss: -1.7966    \n",
      "Epoch 42/50\n",
      "3124/3124 [==============================] - 21s - loss: -1.8008    \n",
      "Epoch 43/50\n",
      "3124/3124 [==============================] - 20s - loss: -1.7955    \n",
      "Epoch 44/50\n",
      "3124/3124 [==============================] - 20s - loss: -1.8035    \n",
      "Epoch 45/50\n",
      "3124/3124 [==============================] - 21s - loss: -1.8037    \n",
      "Epoch 46/50\n",
      "3124/3124 [==============================] - 22s - loss: -1.8150    \n",
      "Epoch 47/50\n",
      "3124/3124 [==============================] - 21s - loss: -1.8162    \n",
      "Epoch 48/50\n",
      "3124/3124 [==============================] - 20s - loss: -1.8309    \n",
      "Epoch 49/50\n",
      "3124/3124 [==============================] - 20s - loss: -1.8268    \n",
      "Epoch 50/50\n",
      "3124/3124 [==============================] - 20s - loss: -1.8369    \n"
     ]
    },
    {
     "data": {
      "text/plain": [
       "<keras.callbacks.History at 0x175b835d0>"
      ]
     },
     "execution_count": 23,
     "metadata": {},
     "output_type": "execute_result"
    }
   ],
   "source": [
    "# Train the model\n",
    "model.fit(X, y, batch_size=128, nb_epoch=50)"
   ]
  },
  {
   "cell_type": "code",
   "execution_count": 24,
   "metadata": {
    "collapsed": false
   },
   "outputs": [],
   "source": [
    "# Generate timeseries\n",
    "x_seed = X[len(X)-1] #choose final in-sample data point to initialize model\n",
    "x_array = []\n",
    "x_array.append(x_seed)\n",
    "x = np.array(x_array)\n",
    "\n",
    "generated = []\n",
    "for i in range(50):\n",
    "    pred = model.predict(x, verbose=0)[0].tolist()\n",
    "\n",
    "    #drop oldest data in x, and append predicted data for feedforward into model\n",
    "    j = []\n",
    "    x = []\n",
    "    for i in range(1, len(x_seed)):    \n",
    "        j.append(x_seed[i])\n",
    "    j.append(pred)\n",
    "    x = []\n",
    "    x.append(j)\n",
    "    x = np.array(x)\n",
    "    generated.append(pred)\n",
    "\n",
    "generated = np.array(generated)"
   ]
  },
  {
   "cell_type": "code",
   "execution_count": 33,
   "metadata": {
    "collapsed": false
   },
   "outputs": [
    {
     "data": {
      "text/plain": [
       "<matplotlib.collections.PolyCollection at 0x16e918210>"
      ]
     },
     "execution_count": 33,
     "metadata": {},
     "output_type": "execute_result"
    },
    {
     "data": {
      "image/png": "[encoded data removed]",
      "text/plain": [
       "<matplotlib.figure.Figure at 0x11e5e7450>"
      ]
     },
     "metadata": {},
     "output_type": "display_data"
    }
   ],
   "source": [
    "plt.figure(figsize=(20,20))\n",
    "plt.pcolor(generated.T)"
   ]
  },
  {
   "cell_type": "code",
   "execution_count": null,
   "metadata": {
    "collapsed": true
   },
   "outputs": [],
   "source": []
  }
 ],
 "metadata": {
  "kernelspec": {
   "display_name": "Python 2",
   "language": "python",
   "name": "python2"
  },
  "language_info": {
   "codemirror_mode": {
    "name": "ipython",
    "version": 2
   },
   "file_extension": ".py",
   "mimetype": "text/x-python",
   "name": "python",
   "nbconvert_exporter": "python",
   "pygments_lexer": "ipython2",
   "version": "2.7.10"
  }
 },
 "nbformat": 4,
 "nbformat_minor": 0
}
